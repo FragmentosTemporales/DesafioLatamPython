{
 "cells": [
  {
   "cell_type": "markdown",
   "id": "e517aed8-82a3-4af3-b6fe-083fee5333ca",
   "metadata": {},
   "source": [
    "# DESAFIO - Conociendo Python"
   ]
  },
  {
   "cell_type": "markdown",
   "id": "8cfa1f62-44cd-4e5e-a12c-e38f695d34b4",
   "metadata": {},
   "source": [
    "## CRISTIAN RIVERA ACEVEDO"
   ]
  },
  {
   "cell_type": "code",
   "execution_count": null,
   "id": "0c3cd84d-75d2-4845-a89d-8a8f449a09fc",
   "metadata": {},
   "outputs": [
    {
     "name": "stdout",
     "output_type": "stream",
     "text": [
      "Ingresa las ventas 600\n"
     ]
    },
    {
     "name": "stdout",
     "output_type": "stream",
     "text": [
      "El sueldo es de $560\n"
     ]
    }
   ],
   "source": [
    "# 1.- Calculando el salario semanal\n",
    "\n",
    "# definimos el salario base del vendedor\n",
    "salario = 500\n",
    "\n",
    "# solicitamos que se ingrese el total de ventas\n",
    "ventas = int(input(\"Ingresa las ventas\"))\n",
    "\n",
    "# definimos la comision calculando el 10% de la venta\n",
    "comision = int(ventas * 0.1)\n",
    "\n",
    "# sumamos el salario base más la comisión\n",
    "sueldo_total = salario + comision\n",
    "\n",
    "# printeamos el sueldo\n",
    "print(f\"El sueldo es de ${sueldo_total}\")"
   ]
  },
  {
   "cell_type": "code",
   "execution_count": null,
   "id": "de382b02-213c-4190-9828-cfd4212e17d3",
   "metadata": {},
   "outputs": [
    {
     "name": "stdout",
     "output_type": "stream",
     "text": [
      "Busca tu fruta:  durazno\n"
     ]
    },
    {
     "name": "stdout",
     "output_type": "stream",
     "text": [
      "No está tu frutita\n"
     ]
    }
   ],
   "source": [
    "# 2.- Bienvenido a la frutería virtual\n",
    "\n",
    "# creamos el diccionario vacío\n",
    "catalogo_frutas = {}\n",
    "\n",
    "# insertamos unas cuantas frutas y sus valores\n",
    "catalogo_frutas['naranja'] = '100'\n",
    "catalogo_frutas['manzana'] = '110'\n",
    "catalogo_frutas['pera'] = '120'\n",
    "catalogo_frutas['uva'] = '90'\n",
    "\n",
    "# acá el cliente busca su fruta\n",
    "fruta = str(input(\"Busca tu fruta: \"))\n",
    "\n",
    "# si la fruta está en el diccionario, mostramos la fruta y su precio\n",
    "if fruta in catalogo_frutas:\n",
    "    print(f\"El precio de la {fruta} es {catalogo_frutas[fruta]}\")\n",
    "\n",
    "# si la fruta no está lo comentamos al usuario\n",
    "else:\n",
    "    print(\"No está tu fruta\")\n",
    "\n"
   ]
  },
  {
   "cell_type": "code",
   "execution_count": null,
   "id": "34255f0d-a179-4091-acfc-fc1696147c04",
   "metadata": {},
   "outputs": [
    {
     "name": "stdout",
     "output_type": "stream",
     "text": [
      "Tus dados fueron: 3, 3\n",
      "La suma de tus dados es: 6\n"
     ]
    }
   ],
   "source": [
    "# 3.- Bienvenido al casino\n",
    "\n",
    "# importamos la librería que utilizamos\n",
    "import random\n",
    "\n",
    "# para experimentar, definimos las opciones del dado\n",
    "options = [1, 2, 3, 4, 5, 6]\n",
    "\n",
    "# para el primer dado, elegimos dentro de la lista de opciones\n",
    "dado_1 = random.choice(options)\n",
    "\n",
    "# para el segundo dado utilizamos randint definiendo los límites\n",
    "dado_2 = random.randint(1, 6)\n",
    "\n",
    "# calculamos el total de ambos dados\n",
    "total = dado_1 + dado_2\n",
    "\n",
    "# printeamos los resultados\n",
    "print(f\"Tus dados fueron: {dado_1}, {dado_2}\")\n",
    "print(f\"La suma de tus dados es: {total}\")\n"
   ]
  },
  {
   "cell_type": "code",
   "execution_count": null,
   "id": "606a404d-f21a-4467-9b4c-35b51eb1751e",
   "metadata": {},
   "outputs": [
    {
     "name": "stdout",
     "output_type": "stream",
     "text": [
      "Inserta el límite de calorias diarias 9\n",
      "Inserta las calorias por chocolate 1.1\n"
     ]
    },
    {
     "name": "stdout",
     "output_type": "stream",
     "text": [
      "Puedes consumir sólo 8.0 chocolates!\n"
     ]
    }
   ],
   "source": [
    "# 4.- Calculadora de chocolate\n",
    "\n",
    "# el usuario ingresa los valores solicitados\n",
    "limite_caloria = int(input(\"Inserta el límite de calorias diarias\"))\n",
    "calorias_por_chocolate = float(input(\"Inserta las calorias por chocolate\"))\n",
    "\n",
    "# calculamos la cantidad máxima de chocolates con una división\n",
    "max_chocolates = int(limite_caloria/float(calorias_por_chocolate))\n",
    "\n",
    "# printeamos el resultado\n",
    "print(f\"Puedes consumir sólo {float(max_chocolates)} chocolates!\")"
   ]
  }
 ],
 "metadata": {
  "kernelspec": {
   "display_name": "Python 3 (ipykernel)",
   "language": "python",
   "name": "python3"
  },
  "language_info": {
   "codemirror_mode": {
    "name": "ipython",
    "version": 3
   },
   "file_extension": ".py",
   "mimetype": "text/x-python",
   "name": "python",
   "nbconvert_exporter": "python",
   "pygments_lexer": "ipython3",
   "version": "3.12.7"
  }
 },
 "nbformat": 4,
 "nbformat_minor": 5
}
