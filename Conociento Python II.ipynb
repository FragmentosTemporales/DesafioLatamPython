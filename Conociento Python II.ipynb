{
 "cells": [
  {
   "cell_type": "markdown",
   "id": "7107ed4a-ae2c-4bc0-8e71-ab14193b9b00",
   "metadata": {},
   "source": [
    "# CONOCIENDO PYTHON\n",
    "## PARTE 2\n",
    "### *CRISTIAN RIVERA*"
   ]
  },
  {
   "cell_type": "code",
   "execution_count": 9,
   "id": "c2ebaaa4-c30c-4e89-bfd8-bfaba1a6b40b",
   "metadata": {},
   "outputs": [
    {
     "name": "stdin",
     "output_type": "stream",
     "text": [
      "INGRESA EL NUMERO INICIAL:  2\n",
      "INGRESA EL NUMERO FINAL:  8\n"
     ]
    },
    {
     "name": "stdout",
     "output_type": "stream",
     "text": [
      "los numeros ingresados son 2 y 8\n",
      "Los numeros pares encontrados son los siguientes: [2, 4, 6]\n",
      "La suma de todos los numeros pares encontados es: 12\n"
     ]
    }
   ],
   "source": [
    "# SUMA DE NUMEROS PARES\n",
    "\n",
    "#Primero pedimos al usuario que ingrese los numeros enteros\n",
    "\n",
    "numero_inicial = int(input(\"INGRESA EL NUMERO INICIAL: \"))\n",
    "numero_final = int(input(\"INGRESA EL NUMERO FINAL: \"))\n",
    "\n",
    "#Hacemos un print de los numeros ingresados\n",
    "print(f\"los numeros ingresados son {numero_inicial} y {numero_final}\")\n",
    "\n",
    "numeros_pares = []\n",
    "\n",
    "for n in range(numero_inicial, numero_final):\n",
    "    if n % 2 == 0:\n",
    "        numeros_pares.append(n)\n",
    "\n",
    "print(f\"Los numeros pares encontrados son los siguientes: {numeros_pares}\")\n",
    "total = sum(numeros_pares)\n",
    "print(f\"La suma de todos los numeros pares encontados es: {total}\")\n"
   ]
  },
  {
   "cell_type": "code",
   "execution_count": 19,
   "id": "fb4df6ba-7010-40ae-bda3-cf966631e832",
   "metadata": {},
   "outputs": [
    {
     "name": "stdout",
     "output_type": "stream",
     "text": [
      "OPCIONES:\n",
      "1 - Cuadrado\n",
      "2 - Triángulo\n",
      "3 - Círculo\n"
     ]
    },
    {
     "name": "stdin",
     "output_type": "stream",
     "text": [
      "Selecciona una figura (1, 2 o 3):  1\n"
     ]
    },
    {
     "name": "stdout",
     "output_type": "stream",
     "text": [
      "Elegiste un cuadrado\n"
     ]
    },
    {
     "name": "stdin",
     "output_type": "stream",
     "text": [
      "Ingresa la medida de un lado:  2\n"
     ]
    },
    {
     "name": "stdout",
     "output_type": "stream",
     "text": [
      "El área del cuadrado es: 4.0\n"
     ]
    }
   ],
   "source": [
    "# CALCULADORA DE ÁREAS\n",
    "import math\n",
    "\n",
    "#printeamos las opciones\n",
    "print(\"OPCIONES:\")\n",
    "print(\"1 - Cuadrado\")\n",
    "print(\"2 - Triángulo\")\n",
    "print(\"3 - Círculo\")\n",
    "\n",
    "# utilizamos un ciclo while para validar la respuesta\n",
    "while True:\n",
    "    figura = int(input(\"Selecciona una figura (1, 2 o 3): \"))\n",
    "    if figura in [1, 2, 3]:\n",
    "        break\n",
    "    else:\n",
    "        print(\"Opción inválida. Debes elegir 1, 2 o 3.\")\n",
    "    print(\"Entrada no válida. Ingresa un número entero.\")\n",
    "\n",
    "\n",
    "# utilizamos if para el cuadrado\n",
    "if figura == 1:\n",
    "    print(\"Elegiste un cuadrado\")\n",
    "    lado = float(input(\"Ingresa la medida de un lado: \"))\n",
    "    area_calculada = lado ** 2\n",
    "    print(f\"El área del cuadrado es: {area_calculada}\")\n",
    "\n",
    "# utilizamos elif para el triangulo\n",
    "elif figura == 2:\n",
    "    print(\"Elegiste un triángulo\")\n",
    "    base = float(input(\"Ingresa la base: \"))\n",
    "    altura = float(input(\"Ingresa la altura: \"))\n",
    "    area_calculada = (base * altura) / 2\n",
    "    print(f\"El área del triángulo es: {area_calculada}\")\n",
    "\n",
    "# utilizamos un else para el circulo\n",
    "else:\n",
    "    print(\"Elegiste un círculo\")\n",
    "    radio = float(input(\"Ingresa el radio del círculo: \"))\n",
    "    area_calculada = math.pi * radio ** 2\n",
    "    print(f\"El área del círculo es: {area_calculada}\")"
   ]
  },
  {
   "cell_type": "code",
   "execution_count": 36,
   "id": "0a707a2c-29c5-475a-9203-50247e0e3618",
   "metadata": {},
   "outputs": [
    {
     "name": "stdout",
     "output_type": "stream",
     "text": [
      "Let's play a game:\n",
      "Debes adivinar el número para terminar esta maldicion...\n"
     ]
    },
    {
     "name": "stdin",
     "output_type": "stream",
     "text": [
      "Introduce tu número:  1\n"
     ]
    },
    {
     "name": "stdout",
     "output_type": "stream",
     "text": [
      "Demasiado bajo. Intenta otra vez.\n"
     ]
    },
    {
     "name": "stdin",
     "output_type": "stream",
     "text": [
      "Introduce tu número:  90\n"
     ]
    },
    {
     "name": "stdout",
     "output_type": "stream",
     "text": [
      "Demasiado alto. Intenta otra vez.\n"
     ]
    },
    {
     "name": "stdin",
     "output_type": "stream",
     "text": [
      "Introduce tu número:  50\n"
     ]
    },
    {
     "name": "stdout",
     "output_type": "stream",
     "text": [
      "Demasiado alto. Intenta otra vez.\n"
     ]
    },
    {
     "name": "stdin",
     "output_type": "stream",
     "text": [
      "Introduce tu número:  40\n"
     ]
    },
    {
     "name": "stdout",
     "output_type": "stream",
     "text": [
      "Demasiado alto. Intenta otra vez.\n"
     ]
    },
    {
     "name": "stdin",
     "output_type": "stream",
     "text": [
      "Introduce tu número:  30\n"
     ]
    },
    {
     "name": "stdout",
     "output_type": "stream",
     "text": [
      "Demasiado alto. Intenta otra vez.\n"
     ]
    },
    {
     "name": "stdin",
     "output_type": "stream",
     "text": [
      "Introduce tu número:  20\n"
     ]
    },
    {
     "name": "stdout",
     "output_type": "stream",
     "text": [
      "Demasiado alto. Intenta otra vez.\n"
     ]
    },
    {
     "name": "stdin",
     "output_type": "stream",
     "text": [
      "Introduce tu número:  10\n"
     ]
    },
    {
     "name": "stdout",
     "output_type": "stream",
     "text": [
      "Demasiado bajo. Intenta otra vez.\n"
     ]
    },
    {
     "name": "stdin",
     "output_type": "stream",
     "text": [
      "Introduce tu número:  15\n"
     ]
    },
    {
     "name": "stdout",
     "output_type": "stream",
     "text": [
      "¡Felicidades! Adivinaste el número!\n"
     ]
    }
   ],
   "source": [
    "# ADIVINA EL NUMERO\n",
    "\n",
    "import random\n",
    "\n",
    "#seleccionamos el numero antes del ciclo, para que no se reinicie con cada iteración\n",
    "numero_elegido = random.randint(1,100)\n",
    "\n",
    "print(\"Let's play a game:\")\n",
    "print(\"Debes adivinar el número para terminar esta maldicion...\")\n",
    "\n",
    "#utilizamos un ciclo white para que no finalice el juego hasta adivinar\n",
    "while True:\n",
    "    numero = input(\"Introduce tu número: \")\n",
    "    \n",
    "    # Validar que el input sea un número\n",
    "    if not numero.isdigit():\n",
    "        print(\"Por favor, introduce un número válido.\")\n",
    "        continue\n",
    "\n",
    "    #convertimos el numero a entero\n",
    "    numero = int(numero)\n",
    "\n",
    "    if numero < numero_elegido:\n",
    "        print(\"Demasiado bajo. Intenta otra vez.\")\n",
    "    elif numero > numero_elegido:\n",
    "        print(\"Demasiado alto. Intenta otra vez.\")\n",
    "    else:\n",
    "        print(\"¡Felicidades! Adivinaste el número!\")\n",
    "        break\n"
   ]
  },
  {
   "cell_type": "code",
   "execution_count": 49,
   "id": "40ef66ac-8c11-4162-988b-c2b57c2f7f56",
   "metadata": {},
   "outputs": [
    {
     "name": "stdin",
     "output_type": "stream",
     "text": [
      "Ingresa la velocidad del pollo:  20\n"
     ]
    },
    {
     "name": "stdout",
     "output_type": "stream",
     "text": [
      "🐥\n",
      "--------------------🐥\n",
      "----------------------------------------🐥\n",
      "------------------------------------------------------------🐥\n",
      "--------------------------------------------------------------------------------🐥\n",
      "----------------------------------------------------------------------------------------------------🐥\n",
      "El pollo ha llegado a la meta!\n"
     ]
    }
   ],
   "source": [
    "# CARRERA DE POLLOS\n",
    "\n",
    "import time\n",
    "\n",
    "# definimos el valor inicial del recorrido\n",
    "recorrido = 0\n",
    "\n",
    "# pedimos la velocidad del pollo\n",
    "velocidad = input(\"Ingresa la velocidad del pollo: \")\n",
    "velocidad = int(velocidad)\n",
    "\n",
    "# el ciclo se ejecutara mientras velocidad sea menor a 100\n",
    "while recorrido <= 100:\n",
    "    print(\"-\" * recorrido + \"🐥\")\n",
    "    time.sleep(1)\n",
    "    recorrido += velocidad\n",
    "\n",
    "print(\"El pollo ha llegado a la meta!\")\n"
   ]
  },
  {
   "cell_type": "code",
   "execution_count": null,
   "id": "500cb701-c207-470c-a0f7-e53ee9e89e4d",
   "metadata": {},
   "outputs": [],
   "source": []
  }
 ],
 "metadata": {
  "kernelspec": {
   "display_name": "Python 3 (ipykernel)",
   "language": "python",
   "name": "python3"
  },
  "language_info": {
   "codemirror_mode": {
    "name": "ipython",
    "version": 3
   },
   "file_extension": ".py",
   "mimetype": "text/x-python",
   "name": "python",
   "nbconvert_exporter": "python",
   "pygments_lexer": "ipython3",
   "version": "3.12.7"
  }
 },
 "nbformat": 4,
 "nbformat_minor": 5
}
