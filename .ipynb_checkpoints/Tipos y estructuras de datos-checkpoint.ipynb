{
 "cells": [
  {
   "cell_type": "markdown",
   "id": "377fb92f-db0e-4eef-a5a0-2d71555904ba",
   "metadata": {},
   "source": [
    "# CRISTIAN RIVERA\n",
    "## DESAFIO - TIPOS Y ESTRUCTURAS DE DATOS\n",
    "### PRIMERA PARTE\n"
   ]
  },
  {
   "cell_type": "code",
   "execution_count": 23,
   "id": "3dfbcb34-97f6-4eac-b6b5-f5ccf81a2dfd",
   "metadata": {},
   "outputs": [],
   "source": [
    "lista = [\"manzana\", \"pera\", \"naranja\", \"plátano\", \"kiwi\", \"uva\", \"piña\",\n",
    "\"mango\", \"sandía\", \"melón\"]"
   ]
  },
  {
   "cell_type": "code",
   "execution_count": 15,
   "id": "bf6c60ca-3bf5-4128-9c25-b98cbde66f0a",
   "metadata": {},
   "outputs": [
    {
     "name": "stdout",
     "output_type": "stream",
     "text": [
      "kiwi\n"
     ]
    }
   ],
   "source": [
    "#imprimir el quinto elemento de la lista\n",
    "\n",
    "print(lista[4])"
   ]
  },
  {
   "cell_type": "code",
   "execution_count": 16,
   "id": "2f02bec2-0538-4330-8662-a3f679bf65a6",
   "metadata": {},
   "outputs": [
    {
     "name": "stdout",
     "output_type": "stream",
     "text": [
      "['plátano', 'kiwi', 'uva']\n"
     ]
    }
   ],
   "source": [
    "#imprimir del 4 al sexto elemento\n",
    "\n",
    "print(lista[3:6])"
   ]
  },
  {
   "cell_type": "code",
   "execution_count": 17,
   "id": "7e0357ae-e6ff-430f-b500-b1332aafe8d2",
   "metadata": {},
   "outputs": [
    {
     "name": "stdout",
     "output_type": "stream",
     "text": [
      "naranja\n",
      "['manzana', 'pera', 'plátano', 'kiwi', 'uva', 'piña', 'mango', 'sandía', 'melón']\n"
     ]
    }
   ],
   "source": [
    "#eliminar el elemento en la posicion 3\n",
    "\n",
    "print(lista[2])\n",
    "lista.pop(2)\n",
    "print(lista)"
   ]
  },
  {
   "cell_type": "code",
   "execution_count": 18,
   "id": "560a3258-9773-4a79-8389-79419ab9243e",
   "metadata": {},
   "outputs": [
    {
     "name": "stdout",
     "output_type": "stream",
     "text": [
      "['manzana', 'pera', 'plátano', 'kiwi', 'uva', 'piña', 'mango', 'sandía', 'melón']\n",
      "['manzana', 'pera', 'plátano', 'kiwi', 'uva', 'piña', 'mango', 'sandía', 'melón', 'elemento 1', 'elemento 2']\n"
     ]
    }
   ],
   "source": [
    "#agregar 2 elementos\n",
    "\n",
    "print(lista)\n",
    "nuevos = ['elemento 1', 'elemento 2']\n",
    "for elemento in nuevos:\n",
    "    lista.append(elemento)\n",
    "print(lista)"
   ]
  },
  {
   "cell_type": "code",
   "execution_count": 19,
   "id": "1bbbec40-1bed-415d-9616-3d8c30abcc97",
   "metadata": {},
   "outputs": [
    {
     "name": "stdout",
     "output_type": "stream",
     "text": [
      "['manzana', 'pera', 'plátano', 'kiwi', 'uva', 'piña', 'mango', 'sandía', 'melón', 'elemento 1', 'elemento 2']\n",
      "['elemento 1', 'elemento 2', 'kiwi', 'mango', 'manzana', 'melón', 'pera', 'piña', 'plátano', 'sandía', 'uva']\n"
     ]
    }
   ],
   "source": [
    "#ordenar lista\n",
    "\n",
    "print(lista)\n",
    "lista.sort()\n",
    "print(lista)"
   ]
  },
  {
   "cell_type": "code",
   "execution_count": 22,
   "id": "dfc87b6d-a781-4652-845e-193bd12b1fc2",
   "metadata": {},
   "outputs": [
    {
     "name": "stdout",
     "output_type": "stream",
     "text": [
      "{'uno': 'elemento 1', 'dos': 'elemento 2', 'tres': 'kiwi', 'cuatro': 'mango', 'cinco': 'manzana', 'seis': 'melón', 'siete': 'pera', 'ocho': 'piña', 'nueve': 'plátano', 'diez': 'sandía'}\n"
     ]
    }
   ],
   "source": [
    "lista1 = [\"uno\", \"dos\", \"tres\", \"cuatro\", \"cinco\", \"seis\", \"siete\",\n",
    "\"ocho\", \"nueve\", \"diez\"]\n",
    "lista = lista[:10]\n",
    "diccionario = dict(zip(lista1, lista))\n",
    "print(diccionario)\n"
   ]
  },
  {
   "cell_type": "markdown",
   "id": "3c99abe7-abf9-49e7-97ed-aedf07d6adc2",
   "metadata": {},
   "source": [
    "## SEGUNDA PARTE"
   ]
  },
  {
   "cell_type": "code",
   "execution_count": 24,
   "id": "0c303f07-2e0a-4732-acad-50a81da2c33b",
   "metadata": {},
   "outputs": [],
   "source": [
    "import numpy as np"
   ]
  },
  {
   "cell_type": "code",
   "execution_count": 32,
   "id": "4c7b92a6-4cb0-4c7f-9dcd-f62e446d1a55",
   "metadata": {},
   "outputs": [
    {
     "name": "stdout",
     "output_type": "stream",
     "text": [
      "[0.   5.06 4.29 ... 4.68 5.12 4.92]\n"
     ]
    }
   ],
   "source": [
    "# importamos el archivo con la informacion, seteando la data\n",
    "\n",
    "array = np.loadtxt('alcohol_cerveza.csv', encoding= 'utf-8', dtype='float', delimiter=',')\n",
    "print(array)"
   ]
  },
  {
   "cell_type": "code",
   "execution_count": 33,
   "id": "6c75bfa0-61a4-4bcd-a251-f1fadff53171",
   "metadata": {},
   "outputs": [
    {
     "data": {
      "text/plain": [
       "5.005334665334665"
      ]
     },
     "execution_count": 33,
     "metadata": {},
     "output_type": "execute_result"
    }
   ],
   "source": [
    "# calculamos la media (mean)\n",
    "\n",
    "media = array.mean()\n",
    "media"
   ]
  },
  {
   "cell_type": "code",
   "execution_count": 35,
   "id": "01ea1d59-5e81-4831-91c6-f5f0db5a3432",
   "metadata": {},
   "outputs": [
    {
     "data": {
      "text/plain": [
       "0.34934892044901755"
      ]
     },
     "execution_count": 35,
     "metadata": {},
     "output_type": "execute_result"
    }
   ],
   "source": [
    "# calculamos la desviacion estandar (std)\n",
    "\n",
    "desviacion = array.std()\n",
    "desviacion"
   ]
  },
  {
   "cell_type": "code",
   "execution_count": 37,
   "id": "67691210-0a92-4811-ad12-9c50445ea1b2",
   "metadata": {},
   "outputs": [
    {
     "data": {
      "text/plain": [
       "3.9572879039876123"
      ]
     },
     "execution_count": 37,
     "metadata": {},
     "output_type": "execute_result"
    }
   ],
   "source": [
    "# calculamos el limite inferior de control (lic)\n",
    "\n",
    "lic = media - (3*desviacion)\n",
    "lic"
   ]
  },
  {
   "cell_type": "code",
   "execution_count": 39,
   "id": "2c906aad-ead4-4f40-a0e3-9c4e7d33e137",
   "metadata": {},
   "outputs": [
    {
     "data": {
      "text/plain": [
       "6.053381426681717"
      ]
     },
     "execution_count": 39,
     "metadata": {},
     "output_type": "execute_result"
    }
   ],
   "source": [
    "# calculamos el limite superior de control (lsc)\n",
    "\n",
    "lsc = media + (3*desviacion)\n",
    "lsc"
   ]
  },
  {
   "cell_type": "code",
   "execution_count": 40,
   "id": "f10c7efa-fb03-40b6-b8b0-90be238e62cf",
   "metadata": {},
   "outputs": [
    {
     "name": "stdout",
     "output_type": "stream",
     "text": [
      "La media es:  5.005334665334665\n",
      "La desviacion es:  0.34934892044901755\n",
      "El limite inferior de control es:  3.9572879039876123\n",
      "El limite superior de control es:  6.053381426681717\n"
     ]
    }
   ],
   "source": [
    "# imprimimos los resultados del analisis\n",
    "\n",
    "print(\"La media es: \",media)\n",
    "print(\"La desviacion es: \", desviacion)\n",
    "print(\"El limite inferior de control es: \", lic)\n",
    "print(\"El limite superior de control es: \", lsc)"
   ]
  },
  {
   "cell_type": "code",
   "execution_count": 44,
   "id": "2c292391-44c0-469c-a29c-6a9dfb64eca0",
   "metadata": {},
   "outputs": [
    {
     "name": "stdout",
     "output_type": "stream",
     "text": [
      "Valores fuera de control:  [0.   3.87]\n"
     ]
    }
   ],
   "source": [
    "# calculamos los outlayers\n",
    "\n",
    "data = np.array(array)\n",
    "condicion = np.logical_or(data < lic, data > lsc)\n",
    "outlayers = data[condicion]\n",
    "\n",
    "print(\"Valores fuera de control: \",outlayers)"
   ]
  },
  {
   "cell_type": "markdown",
   "id": "98f71f2c-c7a6-484a-861a-ff4ea3e30c61",
   "metadata": {},
   "source": [
    "## TERMINAMOS EL EJERCICIO AQUI\n",
    "### GRACIAS POR LEER <3"
   ]
  }
 ],
 "metadata": {
  "kernelspec": {
   "display_name": "Python 3 (ipykernel)",
   "language": "python",
   "name": "python3"
  },
  "language_info": {
   "codemirror_mode": {
    "name": "ipython",
    "version": 3
   },
   "file_extension": ".py",
   "mimetype": "text/x-python",
   "name": "python",
   "nbconvert_exporter": "python",
   "pygments_lexer": "ipython3",
   "version": "3.12.7"
  }
 },
 "nbformat": 4,
 "nbformat_minor": 5
}
